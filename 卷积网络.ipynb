{
 "cells": [
  {
   "cell_type": "code",
   "execution_count": 3,
   "metadata": {},
   "outputs": [],
   "source": [
    "%matplotlib inline\n",
    "import numpy as np\n",
    "from PIL import Image\n",
    "from matplotlib import pyplot as plt\n",
    "\n",
    "import tensorflow as tf\n",
    "from tensorflow.examples.tutorials.mnist import input_data"
   ]
  },
  {
   "cell_type": "code",
   "execution_count": 8,
   "metadata": {},
   "outputs": [
    {
     "name": "stdout",
     "output_type": "stream",
     "text": [
      "Extracting MNIST_data\\train-images-idx3-ubyte.gz\n",
      "Extracting MNIST_data\\train-labels-idx1-ubyte.gz\n",
      "Extracting MNIST_data\\t10k-images-idx3-ubyte.gz\n",
      "Extracting MNIST_data\\t10k-labels-idx1-ubyte.gz\n"
     ]
    }
   ],
   "source": [
    "mnist = input_data.read_data_sets('MNIST_data',one_hot=True,reshape=False)"
   ]
  },
  {
   "cell_type": "code",
   "execution_count": 10,
   "metadata": {},
   "outputs": [
    {
     "data": {
      "text/plain": [
       "(55000, 28, 28, 1)"
      ]
     },
     "execution_count": 10,
     "metadata": {},
     "output_type": "execute_result"
    }
   ],
   "source": [
    "mnist.train.images.shape # 个数 长 宽 通道数"
   ]
  },
  {
   "cell_type": "code",
   "execution_count": 26,
   "metadata": {},
   "outputs": [
    {
     "name": "stdout",
     "output_type": "stream",
     "text": [
      "step     0, loss 0.6364, acc 0.8501\n",
      "step   500, loss 0.4860, acc 0.8647\n",
      "step  1000, loss 0.4887, acc 0.8750\n",
      "step  1500, loss 0.4145, acc 0.8829\n",
      "step  2000, loss 0.2705, acc 0.8913\n",
      "step  2500, loss 0.3114, acc 0.8946\n",
      "step  3000, loss 0.4047, acc 0.9008\n",
      "step  3500, loss 0.3144, acc 0.9035\n",
      "step  4000, loss 0.2273, acc 0.9068\n",
      "step  4500, loss 0.3413, acc 0.9073\n",
      "step  5000, loss 0.5139, acc 0.9132\n",
      "step  5500, loss 0.1702, acc 0.9157\n",
      "step  6000, loss 0.3118, acc 0.9180\n",
      "step  6500, loss 0.2688, acc 0.9195\n",
      "step  7000, loss 0.2750, acc 0.9216\n",
      "step  7500, loss 0.3613, acc 0.9246\n",
      "step  8000, loss 0.3477, acc 0.9266\n",
      "step  8500, loss 0.4376, acc 0.9276\n",
      "step  9000, loss 0.1360, acc 0.9290\n",
      "step  9500, loss 0.2537, acc 0.9296\n",
      "step 10000, loss 0.1691, acc 0.9323\n",
      "step 10500, loss 0.2618, acc 0.9354\n",
      "step 11000, loss 0.0880, acc 0.9357\n",
      "step 11500, loss 0.1450, acc 0.9339\n",
      "step 12000, loss 0.2287, acc 0.9376\n",
      "step 12500, loss 0.1479, acc 0.9402\n",
      "step 13000, loss 0.4217, acc 0.9419\n",
      "step 13500, loss 0.3361, acc 0.9407\n",
      "step 14000, loss 0.2269, acc 0.9443\n",
      "step 14500, loss 0.1271, acc 0.9418\n",
      "step 15000, loss 0.7940, acc 0.9444\n",
      "step 15500, loss 0.1501, acc 0.9451\n",
      "step 16000, loss 0.2948, acc 0.9461\n",
      "step 16500, loss 0.1614, acc 0.9472\n",
      "step 17000, loss 0.1186, acc 0.9487\n",
      "step 17500, loss 0.2912, acc 0.9500\n",
      "step 18000, loss 0.2903, acc 0.9483\n",
      "step 18500, loss 0.1010, acc 0.9511\n",
      "step 19000, loss 0.1889, acc 0.9498\n",
      "step 19500, loss 0.2083, acc 0.9512\n"
     ]
    }
   ],
   "source": [
    "with tf.Graph().as_default() as g:\n",
    "    inputs = tf.placeholder(shape=[None, 28, 28, 1], dtype=tf.float32)\n",
    "    labels = tf.placeholder(shape=[None,10],dtype=tf.float32)\n",
    "    \n",
    "    conv1_weight = tf.get_variable('c1_w',[5,5,1,8],dtype=tf.float32)\n",
    "    conv1_bias = tf.get_variable('c1_b',[8],dtype=tf.float32)\n",
    "    conv1 = tf.nn.conv2d(inputs, conv1_weight, [1,1,1,1],'VALID')\n",
    "    conv1 = tf.nn.relu(conv1 + conv1_bias) # shape[None,24,24,8]\n",
    "    \n",
    "    pool1 = tf.nn.max_pool(conv1,[1, 2, 2, 1],[1, 2, 2, 1],'SAME')# shape =[None,12,12,8]\n",
    "    conv2_weight = tf.get_variable('c2_w',shape=[5, 5, 8, 16],dtype=tf.float32)\n",
    "    conv2_bias = tf.get_variable('c2_b',shape=[16],dtype=tf.float32)\n",
    "    conv2 = tf.nn.conv2d(pool1, conv2_weight,[1,1,1,1],'VALID')\n",
    "    conv2 = tf.nn.relu(conv2 + conv2_bias)#shape=[None,8,8,16]\n",
    "    \n",
    "    pool2 = tf.nn.max_pool(conv2,[1, 2, 2, 1],[1, 2, 2, 1],'SAME')\n",
    "    \n",
    "    #pool2_shape = tf.reshape(pool2)\n",
    "    tmp = tf.reshape(pool2,[-1, 4 * 4 * 16])\n",
    "    #tmp = tf.reshape(pool2,[-1,],pool2_shape[1]*pool2_shape[2]*pool2_shape[3])\n",
    "    logits = tf.keras.layers.Dense(10,activation=None)(tmp)\n",
    "    output = tf.nn.softmax(logits)\n",
    "    \n",
    "    #loss=tf.reduce_mean(tf.keras.losses.categorical_crossentropy(labels,logits))\n",
    "    loss = tf.reduce_mean(-1 * tf.reduce_sum(labels * tf.log(output),axis=1))\n",
    "    acc = tf.reduce_mean(tf.cast(tf.equal(tf.argmax(labels,axis=1),tf.argmax(output,axis=1)),tf.float32))\n",
    "\n",
    "with tf.Session (graph=g) as sess:\n",
    "    optim = tf.train.GradientDescentOptimizer(learning_rate=0.001) #梯度下降训练 比较原始 学习率\n",
    "    train_op = optim.minimize(loss) #最小化代价\n",
    "    sess.run(tf.global_variables_initializer())\n",
    "    \n",
    "    for i in range(5000):\n",
    "        batch_img,batch_labels = mnist.train.next_batch(32)\n",
    "        res_loss, _ = sess.run([loss, train_op],feed_dict={inputs: batch_img,\n",
    "                                                           labels:batch_labels})\n",
    "    for step in range(20000):\n",
    "        batch_images, batch_labels = mnist.train.next_batch(32)\n",
    "        res_loss, _ = sess.run([loss, train_op], feed_dict={\n",
    "            inputs: batch_images,\n",
    "            labels: batch_labels\n",
    "        })\n",
    "        \n",
    "        # 输出代价并验证模型\n",
    "        if step % 500 == 0:\n",
    "            accs = []\n",
    "            for test_step in range(10000 // 32):\n",
    "                batch_images, batch_labels = mnist.test.next_batch(32)\n",
    "                res_acc = sess.run(acc, feed_dict={\n",
    "                    inputs: batch_images,\n",
    "                    labels: batch_labels\n",
    "                })\n",
    "                accs.append(res_acc)\n",
    "            accs = np.mean(accs)\n",
    "            print('step %5d, loss %2.4f, acc %.4f' % (step, res_loss, accs))\n",
    "            #saver.save(sess, 'conv_ckpt')    \n",
    "#         if i % 500 == 0:\n",
    "#             print(res_loss)\n",
    "#             batch_img, _ = mnist.test.next_batch(5)\n",
    "#             res_out = sess.run(out, feed_dict={feed_dict={inputs: batch_img,\n",
    "#                                                           labels:batch_labels})\n",
    "#             for j in range(10):\n",
    "#                 plt.subplot(2, 5, j + 1)\n",
    "#                 img = batch_img[j] if j < 5 else res_out[j - 5]\n",
    "#                 img = (img *255).astype(np.uint8).reshape([28, 28])\n",
    "#                 plt.imshow(img)\n",
    "#             plt.show()"
   ]
  },
  {
   "cell_type": "code",
   "execution_count": null,
   "metadata": {},
   "outputs": [],
   "source": []
  }
 ],
 "metadata": {
  "kernelspec": {
   "display_name": "Python 3",
   "language": "python",
   "name": "python3"
  },
  "language_info": {
   "codemirror_mode": {
    "name": "ipython",
    "version": 3
   },
   "file_extension": ".py",
   "mimetype": "text/x-python",
   "name": "python",
   "nbconvert_exporter": "python",
   "pygments_lexer": "ipython3",
   "version": "3.6.4"
  }
 },
 "nbformat": 4,
 "nbformat_minor": 2
}
