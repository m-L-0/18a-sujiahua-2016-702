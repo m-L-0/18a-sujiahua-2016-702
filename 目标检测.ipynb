{
 "cells": [
  {
   "cell_type": "markdown",
   "metadata": {},
   "source": [
    "利用tensorflow简单实现一个IOU"
   ]
  },
  {
   "cell_type": "code",
   "execution_count": 19,
   "metadata": {},
   "outputs": [],
   "source": [
    "import tensorflow as tf"
   ]
  },
  {
   "cell_type": "code",
   "execution_count": 22,
   "metadata": {},
   "outputs": [],
   "source": [
    "def calc_iou(box1,box2):\n",
    "    left_up = tf.maximum(box1[:2 ],box2[:2])\n",
    "    right_down = tf.minimum(box2[2: ],box2[2:])\n",
    "    intersection = tf.maximum(0.,right_down - left_up)\n",
    "    inter_square = intersection[0] * intersection[1]\n",
    "    \n",
    "    box1_square = (box1[2] - box1[0]) * (box1[3] - box1[1])\n",
    "    box2_square = (box2[2] - box2[0]) * (box2[3] - box2[1])\n",
    "    \n",
    "    iou = inter_square / (box1_square + box2_square - inter_square)\n",
    "    \n",
    "    return iou"
   ]
  },
  {
   "cell_type": "code",
   "execution_count": 23,
   "metadata": {
    "scrolled": true
   },
   "outputs": [
    {
     "name": "stdout",
     "output_type": "stream",
     "text": [
      "0.75\n",
      "2.9166667\n"
     ]
    }
   ],
   "source": [
    "with tf.Session() as sess:\n",
    "    iou = calc_iou([10.,20.,60.,60.],[50.,40.,80.,90.])\n",
    "    print(sess.run(iou))\n",
    "    iou = calc_iou([10.,20.,40.,60.],[10.,40.,80.,90.])\n",
    "    print(sess.run(iou))"
   ]
  },
  {
   "cell_type": "markdown",
   "metadata": {},
   "source": [
    "进行NMS的算法"
   ]
  },
  {
   "cell_type": "code",
   "execution_count": 24,
   "metadata": {},
   "outputs": [],
   "source": [
    "def nms(boxes,threshold=0.7):\n",
    "    boxes.sort(key=lambda boxes: boxes[4],reverse=True)\n",
    "    res_boxes = []\n",
    "    while(len(boxes) != 0):\n",
    "        res_boxes.append(boxes[0])\n",
    "        del boxes[0]\n",
    "        \n",
    "        keep_num = 0\n",
    "        for i in range(len(boxes)):\n",
    "            iou = calc_iou(res_boxes[-1][0:4],boxes[keep_num][0:4])\n",
    "            if iou > threshold:\n",
    "                del boxes[keep_num]\n",
    "            else:\n",
    "                    keep_num += 1\n",
    "                    \n",
    "        return res_boxes"
   ]
  },
  {
   "cell_type": "code",
   "execution_count": 26,
   "metadata": {},
   "outputs": [],
   "source": [
    "# boxes = [[0,0,50,50,0.9],\n",
    "#          [0,0,60,50,0.85],\n",
    "#          [40,40,70,70,0.4],\n",
    "#          [35,45,70,80,0.7]]\n",
    "\n",
    "# res_boxes = nms(boxes,1)\n",
    "# print(res_boxes)"
   ]
  },
  {
   "cell_type": "markdown",
   "metadata": {},
   "source": [
    "tensorflow 实现代价函数"
   ]
  },
  {
   "cell_type": "code",
   "execution_count": 29,
   "metadata": {},
   "outputs": [],
   "source": [
    "outputs = tf.random_uniform([2,8],0,1, dtype=tf.float32)\n",
    "labels = tf.constant([[0,0,0,0,0,0,0,0],\n",
    "                     [1,0.2,0.3,0.3,0.8,0,0,1]],dtype=tf.float32)\n"
   ]
  },
  {
   "cell_type": "code",
   "execution_count": 32,
   "metadata": {},
   "outputs": [],
   "source": [
    "labels_confidence = labels[:,0:1]\n",
    "mask = tf.concat([tf.ones_like(labels)[:,0:1],\n",
    "                (tf.ones_like(labels) * labels_confidence)[:,1: ]],1)\n",
    "outputs = outputs *mask\n",
    "cost = tf.reduce_mean(tf.square(labels - outputs))"
   ]
  },
  {
   "cell_type": "code",
   "execution_count": null,
   "metadata": {},
   "outputs": [],
   "source": []
  }
 ],
 "metadata": {
  "kernelspec": {
   "display_name": "Python 3",
   "language": "python",
   "name": "python3"
  },
  "language_info": {
   "codemirror_mode": {
    "name": "ipython",
    "version": 3
   },
   "file_extension": ".py",
   "mimetype": "text/x-python",
   "name": "python",
   "nbconvert_exporter": "python",
   "pygments_lexer": "ipython3",
   "version": "3.6.4"
  }
 },
 "nbformat": 4,
 "nbformat_minor": 2
}
