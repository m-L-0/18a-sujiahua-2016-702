{
 "cells": [
  {
   "cell_type": "code",
   "execution_count": 1,
   "metadata": {},
   "outputs": [],
   "source": [
    "#姓名；苏家华\n",
    "#学号：2016011702\n",
    "#专业：软件工程机器学习方向\n",
    "\n",
    "#图与会画\n",
    "#在一个notebook文件中构建一张图，实现两个数的加法操作，并在两个不同的会话中执行图。\n",
    "\n"
   ]
  },
  {
   "cell_type": "code",
   "execution_count": 67,
   "metadata": {},
   "outputs": [],
   "source": [
    "import tensorflow as tf"
   ]
  },
  {
   "cell_type": "code",
   "execution_count": 33,
   "metadata": {},
   "outputs": [
    {
     "name": "stdout",
     "output_type": "stream",
     "text": [
      "14\n",
      "14\n"
     ]
    }
   ],
   "source": [
    "\n",
    "with tf.Graph().as_default() as g:\n",
    "    a = tf.add(7,7)\n",
    "\n",
    "with tf.Session(graph = g) as sess1:\n",
    "    print(sess1.run(a))\n",
    "\n",
    "with tf.Session(graph = g) as sess2:\n",
    "    print(sess2.run(a))"
   ]
  },
  {
   "cell_type": "code",
   "execution_count": 34,
   "metadata": {},
   "outputs": [],
   "source": [
    "#学习TensorFlow中执行常量基本运算API的基本用法，\n",
    "#如tf.add、tf.subtract、tf.multiply、tf.divide、tf.mod、tf.pow、tf.square、\n",
    "#tf.sqrt等的用法，并在notebook中演示其基本用法。\n"
   ]
  },
  {
   "cell_type": "code",
   "execution_count": 40,
   "metadata": {},
   "outputs": [
    {
     "name": "stdout",
     "output_type": "stream",
     "text": [
      "(5, 7)\n",
      "12\n"
     ]
    }
   ],
   "source": [
    "with tf.Graph().as_default():\n",
    "    a=tf.constant(5)\n",
    "    b=tf.constant(7)\n",
    "    add=tf.add(a,b)#加法操作\n",
    "\n",
    "    with tf.Session() as sess:\n",
    "        print((sess.run(a),sess.run(b)))\n",
    "        print( sess.run(add))\n",
    "       "
   ]
  },
  {
   "cell_type": "code",
   "execution_count": 46,
   "metadata": {},
   "outputs": [
    {
     "name": "stdout",
     "output_type": "stream",
     "text": [
      "-2\n"
     ]
    }
   ],
   "source": [
    "a=tf.constant(5)\n",
    "b=tf.constant(7)\n",
    "sub=tf.subtract(a,b)#减法操作\n",
    "with tf.Session() as sess:   \n",
    "    print(sess.run(sub))"
   ]
  },
  {
   "cell_type": "code",
   "execution_count": 52,
   "metadata": {},
   "outputs": [
    {
     "name": "stdout",
     "output_type": "stream",
     "text": [
      "35\n"
     ]
    }
   ],
   "source": [
    "a=tf.constant(5)\n",
    "b=tf.constant(7)\n",
    "mul=tf.multiply(a,b)#乘法操作\n",
    "with tf.Session() as sess:   \n",
    "    print( sess.run(mul))"
   ]
  },
  {
   "cell_type": "code",
   "execution_count": 54,
   "metadata": {},
   "outputs": [
    {
     "name": "stdout",
     "output_type": "stream",
     "text": [
      "0.7142857142857143\n"
     ]
    }
   ],
   "source": [
    "a=tf.constant(5)\n",
    "b=tf.constant(7)\n",
    "div=tf.divide(a,b)#除法操作\n",
    "with tf.Session() as sess:\n",
    "    print( sess.run(div))"
   ]
  },
  {
   "cell_type": "code",
   "execution_count": 62,
   "metadata": {},
   "outputs": [
    {
     "name": "stdout",
     "output_type": "stream",
     "text": [
      "5\n"
     ]
    }
   ],
   "source": [
    "a=tf.constant(5)\n",
    "b=tf.constant(7)\n",
    "mod=tf.mod(a,b)#返回两数相除的余数\n",
    "\n",
    "with tf.Session() as sess:\n",
    "    print( sess.run(mod))"
   ]
  },
  {
   "cell_type": "code",
   "execution_count": 57,
   "metadata": {},
   "outputs": [
    {
     "name": "stdout",
     "output_type": "stream",
     "text": [
      "78125\n"
     ]
    }
   ],
   "source": [
    "a=tf.constant(5)\n",
    "b=tf.constant(7)\n",
    "power=tf.pow(a,b)#a的b次方\n",
    "with tf.Session() as sess:\n",
    "    print( sess.run(power))"
   ]
  },
  {
   "cell_type": "code",
   "execution_count": 84,
   "metadata": {},
   "outputs": [
    {
     "name": "stdout",
     "output_type": "stream",
     "text": [
      "25\n"
     ]
    }
   ],
   "source": [
    "a=tf.constant(5)\n",
    "square=tf.square(a)#平方\n",
    "with tf.Session() as sess:\n",
    "    print( sess.run(square))"
   ]
  },
  {
   "cell_type": "code",
   "execution_count": 88,
   "metadata": {},
   "outputs": [
    {
     "name": "stdout",
     "output_type": "stream",
     "text": [
      "2.0\n"
     ]
    }
   ],
   "source": [
    "a=tf.constant(4.)\n",
    "sqrt = tf.sqrt(a)\n",
    "with tf.Session() as sess:#开平方运算\n",
    "    print( sess.run(sqrt))"
   ]
  },
  {
   "cell_type": "code",
   "execution_count": null,
   "metadata": {},
   "outputs": [],
   "source": []
  }
 ],
 "metadata": {
  "kernelspec": {
   "display_name": "Python 3",
   "language": "python",
   "name": "python3"
  },
  "language_info": {
   "codemirror_mode": {
    "name": "ipython",
    "version": 3
   },
   "file_extension": ".py",
   "mimetype": "text/x-python",
   "name": "python",
   "nbconvert_exporter": "python",
   "pygments_lexer": "ipython3",
   "version": "3.6.4"
  }
 },
 "nbformat": 4,
 "nbformat_minor": 2
}
