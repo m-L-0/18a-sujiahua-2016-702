{
 "cells": [
  {
   "cell_type": "markdown",
   "metadata": {},
   "source": [
    "1 总结name_scope与variable_scope的作用以及异同点。"
   ]
  },
  {
   "cell_type": "code",
   "execution_count": 5,
   "metadata": {},
   "outputs": [],
   "source": [
    "import tensorflow as tf"
   ]
  },
  {
   "cell_type": "code",
   "execution_count": null,
   "metadata": {},
   "outputs": [],
   "source": [
    "name_scope可以为其作用域中的节点的name添加一个或多个前缀，并使用这些前缀作为划分内部与外部op范围的标记。"
   ]
  },
  {
   "cell_type": "code",
   "execution_count": 6,
   "metadata": {},
   "outputs": [
    {
     "name": "stdout",
     "output_type": "stream",
     "text": [
      "scope_name_1/\n",
      "Tensor(\"scope_name_1/const:0\", shape=(), dtype=int32) scope_name_1/\n"
     ]
    }
   ],
   "source": [
    "\n",
    "with tf.name_scope('scope_name') as name:\n",
    "    print(name)\n",
    "    b=tf.constant(1,name='const')\n",
    "    print(b,name)"
   ]
  },
  {
   "cell_type": "code",
   "execution_count": 11,
   "metadata": {},
   "outputs": [
    {
     "name": "stdout",
     "output_type": "stream",
     "text": [
      "scope_name_1/const:0\n",
      "scope_name_4/const_1:0\n",
      "my_name/\n",
      "my_name_1/\n"
     ]
    }
   ],
   "source": [
    "#在同一个name_scope的作用域中，填写name相同的Op，TensorFlow会自动加后缀\n",
    "with tf.name_scope('scope_name') as name:\n",
    "    a1 = tf.constant(1, name='const')\n",
    "    print(b.name) \n",
    "    a2 = tf.constant(1, name='const')\n",
    "    print(a2.name)  \n",
    "#同名name_scope 自动加‘_1’\n",
    "\n",
    "#我们可以使用多个name_scope，并且可以填写相同name的两个或多个name_scope，但TensorFlow会自动给name_scope的 name加上后缀：\n",
    "with tf.name_scope('my_name') as name1:\n",
    "      print(name1)  # >> my_name/\n",
    "    \n",
    "with tf.name_scope('my_name') as name2:\n",
    "      print(name2)  #>> my_name_1/"
   ]
  },
  {
   "cell_type": "code",
   "execution_count": 19,
   "metadata": {},
   "outputs": [
    {
     "name": "stdout",
     "output_type": "stream",
     "text": [
      "name_t/name2/\n",
      "name_b/\n",
      "name_b/name_b/\n"
     ]
    }
   ],
   "source": [
    "#name_cope嵌套使用\n",
    "#同级的name_scope\n",
    "with tf.name_scope('name_t'):\n",
    "    with tf.name_scope('name2') as name2:\n",
    "        print(name2) \n",
    "#不同级的name_scope可以填入相同的name\n",
    "with tf.name_scope('name_b') as name1:\n",
    "    print(name1)  \n",
    "    with tf.name_scope('name_b') as name2:\n",
    "        print(name2)  "
   ]
  },
  {
   "cell_type": "code",
   "execution_count": 20,
   "metadata": {},
   "outputs": [
    {
     "name": "stdout",
     "output_type": "stream",
     "text": [
      "constt:0\n"
     ]
    }
   ],
   "source": [
    "#从外部传入的Tensor，并不会在name_scope中加上前缀。\n",
    "a = tf.constant(1, name='constt')\n",
    "with tf.name_scope('my_name', values=[a]):\n",
    "    print(a.name)  "
   ]
  },
  {
   "cell_type": "markdown",
   "metadata": {},
   "source": [
    "variable_scope\n",
    "variable_scope主要用于管理变量作用域以及与变量相关的操作，同时variable_scope也可以像name_scope一样用来给不同操作区域划分范围"
   ]
  },
  {
   "cell_type": "markdown",
   "metadata": {},
   "source": [
    "#使用详情\n",
    "variable_scope(name_or_scope,  # 可以是name或者别的variable_scope\n",
    "               default_name=None,\n",
    "               values=None,\n",
    "               initializer=None,  # 作用域中的变量默认初始化方法\n",
    "               regularizer=None,  # 作用域中的变量默认正则化方法\n",
    "               caching_device=None,  # 默认缓存变量的device\n",
    "               partitioner=None,  # 用于应用在被优化之后的投影变量操作\n",
    "               custom_getter=None,  # 默认的自定义的变量getter方法\n",
    "               reuse=None,  # 变量重用状态\n",
    "               dtype=None,  # 默认的创建变量的类型\n",
    "               use_resource=None):  # 是否使用ResourceVariables代替默认的Variables"
   ]
  },
  {
   "cell_type": "code",
   "execution_count": 22,
   "metadata": {},
   "outputs": [
    {
     "name": "stdout",
     "output_type": "stream",
     "text": [
      "abc/const1:0\n"
     ]
    }
   ],
   "source": [
    "with tf.variable_scope('abc') as scope:\n",
    "    a = tf.constant(1, name='const1')\n",
    "    print(a.name) "
   ]
  },
  {
   "cell_type": "code",
   "execution_count": 23,
   "metadata": {},
   "outputs": [
    {
     "name": "stdout",
     "output_type": "stream",
     "text": [
      "abc\n",
      "abc\n",
      "abc\n",
      "abc_1\n"
     ]
    }
   ],
   "source": [
    "#创建同名的variable_scop\n",
    "g = tf.Graph()\n",
    "with g.as_default():\n",
    "    with tf.variable_scope('abc') as scope:\n",
    "        print(scope.name)  # >> abc\n",
    "        n_scope = g.get_name_scope()\n",
    "        print(n_scope)  # >> abc\n",
    "        \n",
    "    with tf.variable_scope('abc') as scope:\n",
    "        print(scope.name)  # >> abc\n",
    "        n_scope = g.get_name_scope()\n",
    "        print(n_scope)  # >> abc_1"
   ]
  },
  {
   "cell_type": "code",
   "execution_count": 24,
   "metadata": {},
   "outputs": [
    {
     "data": {
      "text/plain": [
       "<tf.Variable 'abc_1:0' shape=() dtype=float32_ref>"
      ]
     },
     "execution_count": 24,
     "metadata": {},
     "output_type": "execute_result"
    }
   ],
   "source": [
    "#variable_scope的最佳搭档是tf.get_variable()函数。\n",
    "tf.get_variable('abc', dtype=tf.float32, shape=[])\n",
    "#随机生成一个初始化的值，"
   ]
  },
  {
   "cell_type": "markdown",
   "metadata": {},
   "source": [
    "#tf.get_variable函数不能重名，否则会提示错误\n",
    "a = tf.get_variable('abcd', shape=[1])\n",
    "b = tf.get_variable('abcd', shape=[1])  \n",
    "#ValueError: Variable abcd already exists, disallowed. Did you mean to set reuse=True or reuse=tf.AUTO_REUSE in VarScope? Originally defined at:\n"
   ]
  },
  {
   "cell_type": "code",
   "execution_count": 27,
   "metadata": {},
   "outputs": [],
   "source": [
    "#tf.get_variable()的用法是随着reuse的状态而改变的\n",
    "#reuse属性的值默认为none 这种情况创建的变量会加上前缀\n",
    "#reuse属性值为true时候，利用name获取已经存在的变量\n",
    "\n",
    "with tf.variable_scope('scope', reuse=None) as scope:\n",
    "# 此时reuse=None，可以用来创建变量\n",
    "    tf.get_variable('var', dtype=tf.float32, shape=[])\n",
    "# 改修reuse=True\n",
    "    scope.reuse_variables()\n",
    "# 此时reuse=True，可以用来获得已有变量\n",
    "    var = tf.get_variable('var')"
   ]
  },
  {
   "cell_type": "code",
   "execution_count": 28,
   "metadata": {},
   "outputs": [
    {
     "name": "stdout",
     "output_type": "stream",
     "text": [
      "first_scope\n",
      "first_scope/second_scope\n",
      "first_scope/second_scope/var:0\n"
     ]
    }
   ],
   "source": [
    "#多级作用域\n",
    "with tf.variable_scope('first_scope') as first_scope:\n",
    "    print(first_scope.name)  # >> first_scope\n",
    "    with tf.variable_scope('second_scope') as second_scope:\n",
    "        print(second_scope.name)  # >> first_scope/second_scope\n",
    "        print(tf.get_variable('var', shape=[1, 2]).name)  \n",
    "        # >> first_scope/second_scope/var:0"
   ]
  },
  {
   "cell_type": "markdown",
   "metadata": {},
   "source": [
    "构建逻辑回归模型（只有模型部分，不包括训练部分），使用get_variable与variable_scope将变量的创建与使用分开"
   ]
  },
  {
   "cell_type": "markdown",
   "metadata": {},
   "source": [
    "name_scope和variable_scope都可以为其作用域中的节点的name添加一个或多个前缀，并且可以再同级作用域和多级作用域中使用，\n",
    "variable_scope有配合使用的get_variable，而name_scope没有，使用get_variable时，名字不能相同，否则系统会提示已经存在一个名字为XX的(名字相同)\n",
    "variable_scope可以设置其作用域内的所有变量的一系列默认操作，比如初始化方法与正则化方法"
   ]
  },
  {
   "cell_type": "markdown",
   "metadata": {},
   "source": [
    "构建逻辑回归模型（只有模型部分，不包括训练部分），使用get_variable与variable_scope将变量的创建与使用分开\n",
    "构造预测函数\n",
    "\n",
    "对于二分类问题，通常选择sigmoid函数作为基础逻辑函数，sigmoid函数的表达式为： \n",
    "sigmoid(z(i))=1/1+e−z(i)\n",
    "\n",
    "对于单个输入 x(i)： \n",
    "z(i)=wTx(i)+b\n",
    "\n",
    "可得到预测函数y^(i)为： \n",
    "y^(i)=a(i)=sigmoid(z(i))\n",
    "对应的损失函数L(a(i),y(i))为： \n",
    "L(a(i),y(i))=−y(i)log(a(i))−(1−y(i))log(1−a(i))\n",
    "\n",
    "然后通过对所有训练样例求和来计算代价函数： \n",
    "J=1/m∑i=1mL(a(i),y(i))\n",
    "\n",
    "对于输入X，逻辑回归预测值\n",
    "A=σ(wTX+b)=(a(1),a(2),...,a(m−1),a(m))\n",
    "通过已知的训练数据与得到的预测值，可得到代价函数： \n",
    "J=−1/m∑i=1my(i)log(a(i))+(1−y(i))log(1−a(i))\n",
    "\n",
    "反向传播 \n",
    "dW=∂J/∂W=1/mX(A−Y)T\n",
    "db=∂J∂b=1m∑i=1m(a(i)−y(i))\n",
    "更新参数\n",
    "W=W−α∗dW(10)\n",
    "b=b−α∗db\n",
    "决策域的选取\n",
    "y^(i)=sigmoid(WTx(i)+b)\n",
    "\n",
    "\n",
    "对应的决策函数为： \n",
    "y(i)p=1, if  y^(i)>0.5\n",
    "y(i)p=0, if  y^(i)=<0.5\n"
   ]
  },
  {
   "cell_type": "code",
   "execution_count": null,
   "metadata": {},
   "outputs": [],
   "source": []
  }
 ],
 "metadata": {
  "kernelspec": {
   "display_name": "Python 3",
   "language": "python",
   "name": "python3"
  },
  "language_info": {
   "codemirror_mode": {
    "name": "ipython",
    "version": 3
   },
   "file_extension": ".py",
   "mimetype": "text/x-python",
   "name": "python",
   "nbconvert_exporter": "python",
   "pygments_lexer": "ipython3",
   "version": "3.6.4"
  }
 },
 "nbformat": 4,
 "nbformat_minor": 2
}
