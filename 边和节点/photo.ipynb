{
 "cells": [
  {
   "cell_type": "code",
   "execution_count": 1,
   "metadata": {},
   "outputs": [],
   "source": [
    "# 有一4阶张量img其shape=[10, 28, 28, 3])，代表10张28*28像素的3通道RGB图像，问：\n",
    "\n",
    "# 1. 如何利用索引取出第2张图片？（注意：索引均从0开始，第二张则索引为1，下同）\n",
    "# 2. 如何利用切片取出第2张图片？\n",
    "# 3. 使用切片与使用索引取出的一张图片有何不同？\n",
    "# 4. 如何取出其中的第1、3、5、7张图片？\n",
    "# 5. 如何取出第6-8张（包括6不包括8）图片中中心区域（14*14）的部分？\n",
    "# 6. 如何将图片根据通道拆分成三份单通道图片？\n",
    "# 7. 写出tf.shape(img)返回的张量的阶数以及shape属性的值。\n"
   ]
  },
  {
   "cell_type": "code",
   "execution_count": 9,
   "metadata": {},
   "outputs": [],
   "source": [
    "import tensorflow as tf\n",
    "img = tf.constant(1,shape=[10,28,28,3])"
   ]
  },
  {
   "cell_type": "code",
   "execution_count": 21,
   "metadata": {},
   "outputs": [],
   "source": [
    "p1= img[1]#利用索引取出第2张图片"
   ]
  },
  {
   "cell_type": "code",
   "execution_count": 11,
   "metadata": {},
   "outputs": [],
   "source": [
    "p2=tf.slice(img,[1,0,0,0],[1,28,28,3])#利用切片取出第2张图片"
   ]
  },
  {
   "cell_type": "code",
   "execution_count": 12,
   "metadata": {},
   "outputs": [],
   "source": [
    "p3 = img[0:8:2,:,:,:]#取出其中的第1、3、5、7张图片？"
   ]
  },
  {
   "cell_type": "code",
   "execution_count": 18,
   "metadata": {},
   "outputs": [],
   "source": [
    "p4 = img[5:8,7:14,7:14,:]#取出第6-8张（包括6不包括8）图片中中心区域（14*14）的部分？"
   ]
  },
  {
   "cell_type": "code",
   "execution_count": 14,
   "metadata": {},
   "outputs": [
    {
     "data": {
      "text/plain": [
       "<tf.Tensor 'Shape:0' shape=(4,) dtype=int32>"
      ]
     },
     "execution_count": 14,
     "metadata": {},
     "output_type": "execute_result"
    }
   ],
   "source": [
    "tf.shape(img)#张量的阶数"
   ]
  },
  {
   "cell_type": "code",
   "execution_count": 15,
   "metadata": {},
   "outputs": [
    {
     "data": {
      "text/plain": [
       "TensorShape([Dimension(10), Dimension(28), Dimension(28), Dimension(3)])"
      ]
     },
     "execution_count": 15,
     "metadata": {},
     "output_type": "execute_result"
    }
   ],
   "source": [
    "img.shape#shape的属性值"
   ]
  },
  {
   "cell_type": "code",
   "execution_count": 16,
   "metadata": {},
   "outputs": [],
   "source": [
    "p5,p6,p7 = tf.split(img,[1,1,1],3)#将图片根据通道拆分成三份单通道图片"
   ]
  },
  {
   "cell_type": "code",
   "execution_count": null,
   "metadata": {},
   "outputs": [],
   "source": []
  }
 ],
 "metadata": {
  "kernelspec": {
   "display_name": "Python 3",
   "language": "python",
   "name": "python3"
  },
  "language_info": {
   "codemirror_mode": {
    "name": "ipython",
    "version": 3
   },
   "file_extension": ".py",
   "mimetype": "text/x-python",
   "name": "python",
   "nbconvert_exporter": "python",
   "pygments_lexer": "ipython3",
   "version": "3.6.4"
  }
 },
 "nbformat": 4,
 "nbformat_minor": 2
}
